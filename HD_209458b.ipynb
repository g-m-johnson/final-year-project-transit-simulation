{
 "cells": [
  {
   "cell_type": "markdown",
   "id": "cb4228f8",
   "metadata": {},
   "source": [
    "Start by defining parameters, equations, constants, etc, etc"
   ]
  },
  {
   "cell_type": "code",
   "execution_count": 59,
   "id": "09ea1d66",
   "metadata": {},
   "outputs": [],
   "source": [
    "import numpy as np\n",
    "from tqdm import tqdm\n",
    "import matplotlib.pyplot as plt\n",
    "import pandas as pd\n",
    "\n",
    "N = 10000  # number of points\n",
    "\n",
    "# i made my code so that the midpoint of the transit would occur at a true anomaly of theta = 0\n",
    "# so these variables are here so that my simulation only covers the transit and an appropriate arm length\n",
    "# for HD 209458 b, the duration of transit takes about 5% of the orbit so im covering 10% of the orbit between +- frac_angle/2\n",
    "frac = 10                                  # reciprocal of fraction of orbit covered i.e 1/10th orbit covered\n",
    "frac_angle = 2*np.pi/frac                  # total angle covered\n",
    "\n",
    "# constants in SI units\n",
    "G = 6.67E-11                               # grav const (m^3 kg^-1 s^-2)\n",
    "sigma = 5.67e-8                            # stafan-boltzmann (W m^-2 K^-4)\n",
    "AU = 1.496e11                              # 1AU (m)\n",
    "M_sol = 1.989E30                           # solar mass (kg)\n",
    "M_jupiter = 1.898E27;                      # jupiter mass (kg)\n",
    "R_sol = 6.96E8                             # solar radius (m)\n",
    "R_jupiter = 6.99E7                         # jupiter radius (m)\n",
    "day = 24*60*60                             # 1 day (s)\n",
    "\n",
    "#stellar parameters\n",
    "T = 6076                                    # temperature (K)\n",
    "M_star = 1.1*M_sol                          # star mass (kg)\n",
    "R_star = 1.21*R_sol                         # star radius (m)\n",
    "\n",
    "#planetary parameters\n",
    "a = 0.045*AU                                # semi major axis (m)\n",
    "e = 0.018                                   # orbital eccentricities \n",
    "P = 3.5247*day                              # orbital period (s)\n",
    "i = np.deg2rad(86.59); phi = 0              # inclination and periapsis (rad)\n",
    "M_planet = 0.7*M_jupiter                    # planet mass (kg)\n",
    "R_planet = 1.5*R_jupiter                    # planet radius (m)\n",
    "\n",
    "# preliminary equations\n",
    "a_star = (a*M_planet)/(M_star + M_planet)   # star to barycentre\n",
    "a_planet = a - a_star                       # planet to barycentre"
   ]
  },
  {
   "cell_type": "markdown",
   "id": "23f30479",
   "metadata": {},
   "source": [
    "Define functions, lists, etc."
   ]
  },
  {
   "cell_type": "code",
   "execution_count": 60,
   "id": "5fa9ba74",
   "metadata": {},
   "outputs": [],
   "source": [
    "# distance between two gravitating bodies\n",
    "def dist(a, angle):\n",
    "    return (a*(1-e**2))/(1+e*np.cos(angle))\n",
    "\n",
    "# coordinate transforms dictated by inclination angle\n",
    "def xTransform(x, z):\n",
    "    return x*np.cos(np.pi/2 - i) + z*np.sin(np.pi/2 - i)\n",
    "def zTransform(x, z):\n",
    "    return -x*np.sin(np.pi/2 - i) + z*np.cos(np.pi/2 - i)\n",
    "\n",
    "# cosine rule\n",
    "def cosine(a, b, c):\n",
    "    cosA = (b**2 + c**2 - a**2)/(2*b*c)\n",
    "    return np.arccos(cosA)\n",
    "\n",
    "# funny area calculation from 'Transiting Exoplanets'\n",
    "def area2(xi):\n",
    "    alpha_1 = cosine(1, xi, p); alpha_2 = cosine(p, xi, 1)\n",
    "    return R_star**2 * ((p**2)*alpha_1 + alpha_2 - (np.sqrt((4*xi**2) - (1 + xi**2 - p**2)**2))/2)\n",
    "\n",
    "#lists lists lists\n",
    "rP_list = []; rS_list = []; theta_list = []         # lists of orbital radius & angle subtended from starting point of orbit\n",
    "x_planet = []; y_planet = []; z_planet = []; \n",
    "x_star = []; y_star = []                            # x, y, z positions of planet and star\n",
    "trans_x_planet = []; trans_z_planet = []            # transformed x and z of planet orbit\n",
    "trans_z_star = []"
   ]
  },
  {
   "cell_type": "markdown",
   "id": "77726d5f",
   "metadata": {},
   "source": [
    "Now use Keplerian equations to calculate the trajectory of the planet around the star"
   ]
  },
  {
   "cell_type": "code",
   "execution_count": 61,
   "id": "a1eacee4",
   "metadata": {},
   "outputs": [],
   "source": [
    "theta = -frac_angle/2; z=0                ## start simulation at -1/2 of the entire angle covered\n",
    "while (theta + phi) <= frac_angle/2:\n",
    "    \n",
    "    rJ = dist(a_planet, theta)\n",
    "    rS = dist(a_star, theta-np.pi)\n",
    "    xJ = rJ*np.cos(theta); yJ = rJ*np.sin(theta)\n",
    "    xS = rS*np.cos(theta); yS = rS*np.sin(theta)\n",
    "    \n",
    "    theta_list.append(theta); rP_list.append(rJ); rS_list.append(rS)\n",
    "    x_star.append(xS); y_star.append(yS) \n",
    "    x_planet.append(xJ); y_planet.append(yJ); z_planet.append(z)\n",
    "    \n",
    "    trans_x_planet.append(xTransform(xJ, 0))\n",
    "    trans_z_planet.append(zTransform(xJ, 0))\n",
    "    trans_z_star.append(zTransform(xS, 0))\n",
    "    \n",
    "    theta = theta + 2*np.pi/(frac*N)\n",
    "\n",
    "time = [i * (P / (2*np.pi)) for i in theta_list]  # assuming that the planet orbits at a constant velocity\n",
    "# fair assumption given that exoplanets detected by transit need to be fairly close to their star\n",
    "#which means almost circular orbit"
   ]
  },
  {
   "cell_type": "markdown",
   "id": "b9bbe535",
   "metadata": {},
   "source": [
    "Plot fraction of orbit in the x-y plane and the transformed coordinates in y-z plane.\n",
    "Star is there for illustration purposes :')"
   ]
  },
  {
   "cell_type": "code",
   "execution_count": 62,
   "id": "4c5641e0",
   "metadata": {
    "scrolled": false
   },
   "outputs": [
    {
     "data": {
      "image/png": "[encoded data removed]",
      "text/plain": [
       "<Figure size 1152x576 with 2 Axes>"
      ]
     },
     "metadata": {
      "needs_background": "light"
     },
     "output_type": "display_data"
    }
   ],
   "source": [
    "fig, ax = plt.subplots(1, 2, figsize=(16, 8), constrained_layout = True)\n",
    "star = plt.Circle((0, 0), R_star, fc = 'yellow', ec = 'orange')\n",
    "\n",
    "ax[0].plot(x_planet, y_planet, 'k.', markersize = 0.5); ax[0].axis('equal')\n",
    "ax[0].set_xlabel(r'$x~(\\times 10^{9}m)$', fontsize = 'xx-large')\n",
    "ax[0].set_ylabel(r'$y~(\\times 10^{9}m)$', fontsize = 'xx-large')\n",
    "ax[0].set_title('(a)', fontsize = 'xx-large')\n",
    "ax[0].set_xticks([5e9, 6e9, 7e9, 8e9, 9e9])\n",
    "ax[0].set_xticklabels(['5.0', '6.0', '7.0', '8.0', '9.0'], fontsize = 'large')\n",
    "ax[0].set_yticks([-2e9, -1e9, 0, 1e9, 2e9])\n",
    "ax[0].set_yticklabels(['-2.0', '-1.0', '0.0', '1.0', '2.0'], fontsize = 'large')\n",
    "\n",
    "ax[1].set_xticks([-2e9, -1e9, 0, 1e9, 2e9])\n",
    "ax[1].set_xticklabels(['-2.0', '-1.0', '0.0', '1.0', '2.0'], fontsize = 'large')\n",
    "ax[1].set_yticks([-2e9, -1e9, 0, 1e9, 2e9])\n",
    "ax[1].set_yticklabels(['-2.0', '-1.0', '0.0', '1.0', '2.0'], fontsize = 'large')\n",
    "ax[1].set_title('(b)', fontsize = 'xx-large')\n",
    "ax[1].plot(y_planet, trans_z_planet, 'k.', markersize = 0.5)\n",
    "ax[1].add_patch(star)\n",
    "ax[1].set_xlabel(r'$y~(\\times 10^{9}m)$', fontsize = 'xx-large');\n",
    "ax[1].set_ylabel(r'$z~(\\times 10^{9}m)$', fontsize = 'xx-large')\n",
    "ax[1].axis('equal')\n",
    "\n",
    "plt.show()"
   ]
  },
  {
   "cell_type": "markdown",
   "id": "c06d922a",
   "metadata": {},
   "source": [
    "Calculate crossover area"
   ]
  },
  {
   "cell_type": "code",
   "execution_count": 63,
   "id": "e8146ce7",
   "metadata": {},
   "outputs": [
    {
     "data": {
      "image/png": "[encoded data removed]",
      "text/plain": [
       "<Figure size 720x432 with 1 Axes>"
      ]
     },
     "metadata": {
      "needs_background": "light"
     },
     "output_type": "display_data"
    }
   ],
   "source": [
    "s = []  #distance from centres of the two bodies in the plane of the sky\n",
    "p = R_planet/R_star  # ratio of radii\n",
    "\n",
    "#using s^2 = y^2 + z^2\n",
    "for i in range(N):\n",
    "    dy_sq = (abs(y_planet[i]) + abs(y_star[i]))**2\n",
    "    dz_sq = (abs(trans_z_planet[i]) + abs(trans_z_star[i]))**2\n",
    "    if(y_planet[i]<0):\n",
    "        s_val = np.sqrt(dy_sq + dz_sq)\n",
    "    else:\n",
    "        s_val = np.sqrt(dy_sq + dz_sq)\n",
    "    s.append(s_val)\n",
    "xi = [i/R_star for i in s]\n",
    "\n",
    "\n",
    "area = []\n",
    "for n in range(N):\n",
    "    # no eclipsed area\n",
    "    if 1 + p < abs(xi[n]):\n",
    "        A = 0\n",
    "    # a little eclipsed area but not fully\n",
    "    if 1 - p >= abs(xi[n]) and x_planet[n] > 0:\n",
    "        A = np.pi * p**2 * R_star**2\n",
    "    #fully eclipsing\n",
    "    if 1 - p < abs(xi[n]) and 1 + p >= abs(xi[n]) and x_planet[n] > 0:\n",
    "        A = area2(abs(xi[n]))\n",
    "    area.append(A)   \n",
    "    \n",
    "fig, ax = plt.subplots(figsize = (10, 6))\n",
    "ax.plot(time, area, 'k-')\n",
    "fig.suptitle('Geometry Area Method', fontsize = 'x-large')\n",
    "ax.set_xlabel(r'Time from centre of transit $(s)$', fontsize = 'x-large')\n",
    "ax.set_ylabel(r'Area covered by planet $(m^2)$', fontsize = 'x-large')\n",
    "plt.show()"
   ]
  },
  {
   "cell_type": "markdown",
   "id": "2bdbf56f",
   "metadata": {},
   "source": [
    "Now do the strip calculations to calculate limb darkening"
   ]
  },
  {
   "cell_type": "code",
   "execution_count": 65,
   "id": "e6d6b083",
   "metadata": {},
   "outputs": [],
   "source": [
    "dr = R_star/10000\n",
    "I0 = sigma*T**4\n",
    "\n",
    "#limb darkening laws\n",
    "def LD_linear(r):\n",
    "    u = 0.69\n",
    "    mu = np.sqrt(R_star**2 - r**2)/R_star\n",
    "    return I0*(1 - u*(1 - mu))\n",
    "def LD_quad(r):\n",
    "    u1 = 0.1; u2 = 0.95\n",
    "    mu = np.sqrt(R_star**2 - r**2)/R_star\n",
    "    return I0*(1 - u1*(1 - mu) - u2*(1-mu)**2)\n",
    "def LD_log(r):\n",
    "    u1 = 1; u2 = 0.6\n",
    "    mu = np.sqrt(R_star**2 - r**2)/R_star\n",
    "    # adding an epsilon in the log statement to avoid issues with rounding to 0\n",
    "    return I0*(1 - u1*(1 - mu) - u2*mu*np.log(mu + 1e-5))\n",
    "def LD_non_lin(r):\n",
    "    #coefficients from D.K. Sing research note\n",
    "    c1 = 0.5409; c2 = -0.0366; c3 = 0.5688; c4 = -0.3213\n",
    "    mu = np.sqrt(R_star**2 - r**2)/R_star\n",
    "    return I0*(1 - c1*(1-mu**(1/2)) - c2*(1-mu) - c3*(1-mu**(3/2)) - c4*(1-mu**2))\n",
    "\n",
    "\n",
    "# this function is a generalised routine for calculating strip area and summming them for each time\n",
    "# 'end' is the place which the planet no longer eclipses the star OR the edge of the planet furthest from star centre\n",
    "# 'rad dist' is the radial distance from star centre at which the planet 'starts'\n",
    "# 'func' is the limb darkening function used\n",
    "\n",
    "def stripcalc(end, rad_dist, func):\n",
    "    A_sum = 0; I_sum = 0\n",
    "    while rad_dist > end:\n",
    "        theta_star = 2*cosine(R_planet, rad_dist, s[i])\n",
    "        A_strip = rad_dist*theta_star*dr;            A_sum += A_strip\n",
    "        I_strip = A_strip*func(rad_dist);              I_sum += I_strip\n",
    "        rad_dist -= dr\n",
    "    return A_sum, I_sum\n"
   ]
  },
  {
   "cell_type": "code",
   "execution_count": 66,
   "id": "8c91ea8a",
   "metadata": {
    "scrolled": true
   },
   "outputs": [
    {
     "name": "stderr",
     "output_type": "stream",
     "text": [
      "100%|████████████████████████████████████████████████████████████████████████████| 10000/10000 [02:53<00:00, 57.78it/s]\n"
     ]
    }
   ],
   "source": [
    "area_strip = []; \n",
    "LD_strip_lin = []; LD_strip_quad = []; LD_strip_log = []; LD_strip_nonlin = []\n",
    "\n",
    "for i in tqdm(range(N)):\n",
    "    \n",
    "    if s[i] - R_planet > R_star and s[i] + R_planet > R_star:    \n",
    "        area_strip.append(0)\n",
    "        #LD_strip_lin.append(1)\n",
    "        #LD_strip_quad.append(1)\n",
    "        #LD_strip_log.append(1)\n",
    "        LD_strip_nonlin.append(1)\n",
    "    \n",
    "    elif s[i] > R_star and s[i] - R_planet < R_star and s[i] + R_planet > R_star:\n",
    "        area_strip.append(stripcalc(s[i] - R_planet, R_star, LD_quad)[0])\n",
    "        #LD_strip_lin.append(stripcalc(s[i] - R_planet, R_star, LD_linear)[1])\n",
    "        #LD_strip_quad.append(stripcalc(s[i] - R_planet, R_star, LD_quad)[1])\n",
    "        #LD_strip_log.append(stripcalc(s[i] - R_planet, R_star, LD_log)[1])\n",
    "        LD_strip_nonlin.append(stripcalc(s[i] - R_planet, R_star, LD_non_lin)[1])\n",
    "            \n",
    "    elif s[i] < R_star and s[i] + R_planet > R_star and s[i] - R_planet < R_star:\n",
    "        area_strip.append(stripcalc(s[i] - R_planet, R_star, LD_quad)[0])\n",
    "        #LD_strip_lin.append(stripcalc(s[i] - R_planet, R_star, LD_linear)[1])\n",
    "        #LD_strip_quad.append(stripcalc(s[i] - R_planet, R_star, LD_quad)[1])\n",
    "        #LD_strip_log.append(stripcalc(s[i] - R_planet, R_star, LD_log)[1])\n",
    "        LD_strip_nonlin.append(stripcalc(s[i] - R_planet, R_star, LD_non_lin)[1])\n",
    "    \n",
    "    \n",
    "    # in this next statement i found that i needed to +- dr on to the start and end conditions if i didnt want an infinite loop\n",
    "    # adds in a very small error as dr is so small\n",
    "    else:\n",
    "        area_strip.append(stripcalc(s[i]-R_planet+dr, s[i]+R_planet-dr, LD_quad)[0])\n",
    "        #LD_strip_lin.append(stripcalc(s[i]-R_planet+dr, s[i]+R_planet-dr, LD_linear)[1])\n",
    "        #LD_strip_quad.append(stripcalc(s[i]-R_planet+dr, s[i]+R_planet-dr, LD_quad)[1])\n",
    "        #LD_strip_log.append(stripcalc(s[i]-R_planet+dr, s[i]+R_planet-dr, LD_log)[1])\n",
    "        LD_strip_nonlin.append(stripcalc(s[i]-R_planet+dr, s[i]+R_planet-dr, LD_non_lin)[1])\n",
    "        "
   ]
  },
  {
   "cell_type": "code",
   "execution_count": 67,
   "id": "904d4195",
   "metadata": {},
   "outputs": [],
   "source": [
    "# converting time from seconds to hours\n",
    "time_h = [i/3600 for i in time]\n",
    "\n",
    "# routine to sum total flux from each strip of star with no obscurance from planet\n",
    "r = 0; I_sum = 0; P_sum_lin = 0; P_sum_quad = 0; P_sum_log = 0; P_sum_non_lin = 0\n",
    "while r <= R_star:\n",
    "    A = (np.pi*(r+dr)**2)-(np.pi*r**2)\n",
    "    #P_sum_lin += LD_linear(r)*A\n",
    "    #P_sum_quad += LD_quad(r)*A\n",
    "    #P_sum_log += LD_log(r)*A\n",
    "    P_sum_non_lin += LD_non_lin(r)*A\n",
    "    r += dr\n",
    "\n",
    "## calculating relative flux    \n",
    "\n",
    "#pow_lin = [(P_sum_lin - i)/P_sum_lin for i in LD_strip_lin]\n",
    "#pow_quad = [((P_sum_quad - i)/P_sum_quad) for i in LD_strip_quad]\n",
    "#pow_log = [((P_sum_log - i)/P_sum_log) for i in LD_strip_log]\n",
    "pow_non_lin = [((P_sum_non_lin - i)/P_sum_non_lin) for i in LD_strip_nonlin]"
   ]
  },
  {
   "cell_type": "markdown",
   "id": "f7aeabff",
   "metadata": {},
   "source": [
    "lots of silly plots"
   ]
  },
  {
   "cell_type": "code",
   "execution_count": null,
   "id": "68805b16",
   "metadata": {},
   "outputs": [],
   "source": [
    "fig, ax = plt.subplots(figsize = (10, 6))\n",
    "ax.plot(time_h, area_strip, 'k-')\n",
    "ax.set_xlabel(r'Time from centre of transit $(s)$', fontsize = 'x-large')\n",
    "ax.set_ylabel(r'Eclipsed area $(10^{16}~~m^2)$', fontsize = 'x-large')\n",
    "ax.set_xlim(-4, 4)\n",
    "ax.set_yticks([0, 0.5e16, 1e16, 1.5e16, 2e16, 2.5e16, 3e16])\n",
    "ax.set_yticklabels(['0.0', '0.5', '1.0', '1.5', '2.0', '2.5', '3.0'])\n",
    "plt.show()"
   ]
  },
  {
   "cell_type": "code",
   "execution_count": null,
   "id": "b7b5f241",
   "metadata": {},
   "outputs": [],
   "source": [
    "#comparing two methods of area calc\n",
    "#pretty much the same\n",
    "\n",
    "fig, ax = plt.subplots(figsize = (10, 6))\n",
    "ax.plot(time_h, area_strip, 'r-', label = 'Strip Area Method')\n",
    "ax.plot(time_h, area, 'b-', label = 'Geometry Area Method')\n",
    "ax.set_xlabel(r'Time from centre of transit $(s)$', fontsize = 'x-large')\n",
    "ax.set_ylabel(r'Area covered by planet $(m^2)$', fontsize = 'x-large')\n",
    "ax.legend()\n",
    "plt.show()"
   ]
  },
  {
   "cell_type": "code",
   "execution_count": null,
   "id": "e49955f5",
   "metadata": {},
   "outputs": [],
   "source": [
    "compare = zip(area_strip, area)\n",
    "error_area = []\n",
    "for a, b in compare:\n",
    "    #using absolute error\n",
    "    error_area.append(abs(a - b))"
   ]
  },
  {
   "cell_type": "code",
   "execution_count": null,
   "id": "5b45e96c",
   "metadata": {},
   "outputs": [],
   "source": [
    "fig, ax = plt.subplots(1, 2, figsize = (14, 6), constrained_layout = True)\n",
    "\n",
    "ax[0].set_title('(a)', fontsize = 'x-large')\n",
    "ax[0].plot(time_h, area_strip, 'k-')\n",
    "ax[0].set_ylabel(r'Eclipsed area $(10^{16}~~m^2)$', fontsize = 'x-large')\n",
    "ax[0].set_xlabel('Time from centre of transit (hours)', fontsize = 'x-large')\n",
    "ax[0].set_xlim(-4, 4)\n",
    "ax[0].set_yticks([0, 0.5e16, 1e16, 1.5e16, 2e16, 2.5e16, 3e16])\n",
    "ax[0].set_yticklabels(['0.0', '0.5', '1.0', '1.5', '2.0', '2.5', '3.0'])\n",
    "\n",
    "ax[1].set_title('(b)', fontsize = 'x-large')\n",
    "ax[1].plot(time_h, error_area, 'kx', markersize = 1)\n",
    "ax[1].set_xlim(-4, 4)\n",
    "ax[1].set_xlabel('Index', fontsize = 'x-large')\n",
    "ax[1].set_ylabel(r'Absolute error in area calculation $(10^{12}~~m^2)$', fontsize = 'x-large')\n",
    "ax[1].set_xlabel('Time from centre of transit (hours)', fontsize = 'x-large')\n",
    "ax[1].set_yticks([0, 2e12, 4e12, 6e12, 8e12])\n",
    "ax[1].set_yticklabels(['0.0', '2.0', '4.0', '6.0', '8.0'])\n",
    "#ax.set_ylim(0,)\n",
    "plt.show()"
   ]
  },
  {
   "cell_type": "code",
   "execution_count": null,
   "id": "651d0fa5",
   "metadata": {},
   "outputs": [],
   "source": [
    "print('Maximum error: {}, {:.2e}'.format(np.argmax(error_area), max(error_area)))\n",
    "print('Correspoinding area: {:.2e}'.format(area_strip[np.argmax(error_area)]))\n",
    "print('Maximum percentage error: {:.2e}'.format((max(error_area)/area_strip[np.argmax(error_area)])*100))"
   ]
  },
  {
   "cell_type": "code",
   "execution_count": null,
   "id": "09f96884",
   "metadata": {},
   "outputs": [],
   "source": [
    "# these are only for graphing purposes\n",
    "graph_pow_quad = [i + 0.002 for i in pow_quad]\n",
    "graph_pow_log = [i+0.004 for i in pow_log]\n",
    "\n",
    "fig, ax = plt.subplots(figsize = (10, 6))\n",
    "ax.plot(time_h, pow_lin, 'r-', markersize = 1, label = 'Linear LD law')\n",
    "ax.plot(time_h, graph_pow_quad, 'b-', markersize = 1, label = 'Quadratic LD law')\n",
    "ax.plot(time_h, graph_pow_log, 'g-', markersize = 1, label = 'Logarithmic LD law')\n",
    "ax.set_xlabel(r'Time from centre of transit $(hours)$', fontsize = 'x-large')\n",
    "ax.set_ylabel(r'Relative Flux', fontsize = 'x-large')\n",
    "#ax.set_xlim(-2, 2)\n",
    "ax.legend()\n",
    "ax.set_yticks([1.004, 1.00, 0.996, 0.992, 0.988, 0.984])\n",
    "plt.show()\n",
    "\n",
    "print('Linear = {}'.format(min(pow_lin)))\n",
    "print('Quadratic = {}'.format(min(pow_quad)))\n",
    "print('Logarithmic = {}'.format(min(pow_log)))"
   ]
  },
  {
   "cell_type": "markdown",
   "id": "3f3927b2",
   "metadata": {},
   "source": [
    "!!!!"
   ]
  },
  {
   "cell_type": "raw",
   "id": "afa5018e",
   "metadata": {},
   "source": [
    "fig, ax = plt.subplots(2, 1, figsize = (6, 10),constrained_layout = True, gridspec_kw={'height_ratios': [3, 2]})\n",
    "star = plt.Circle((0, 0), R_star, fc = 'yellow', ec = 'orange')\n",
    "\n",
    "ax[0].set_xticks([-2e9, -1e9, 0, 1e9, 2e9])\n",
    "ax[0].set_xticklabels(['-2.0', '-1.0', '0.0', '1.0', '2.0'], fontsize = 'large')\n",
    "ax[0].set_yticks([-2e9, -1e9, 0, 1e9, 2e9])\n",
    "ax[0].set_yticklabels(['-2.0', '-1.0', '0.0', '1.0', '2.0'], fontsize = 'large')\n",
    "ax[0].plot(y_planet, trans_z_planet, 'k-', markersize = 0.5)\n",
    "ax[0].add_patch(star)\n",
    "ax[0].set_xlabel(r'$y~(\\times 10^{9}m)$', fontsize = 'x-large');\n",
    "ax[0].set_ylabel(r'$z~(\\times 10^{9}m)$', fontsize = 'x-large')\n",
    "ax[0].axis('equal')\n",
    "\n",
    "ax[1].plot(time_h, pow_quad, 'k-', markersize = 1)\n",
    "ax[1].set_xlabel(r'Time from centre of transit $(hours)$', fontsize = 'x-large')\n",
    "ax[1].set_ylabel(r'Relative Flux', fontsize = 'x-large')\n",
    "ax[1].set_yticks([0.984, 0.988, 0.992, 0.996, 1])\n",
    "\n",
    "plt.show()"
   ]
  },
  {
   "cell_type": "code",
   "execution_count": null,
   "id": "608a0af9",
   "metadata": {},
   "outputs": [],
   "source": []
  },
  {
   "cell_type": "code",
   "execution_count": 68,
   "id": "6c79ec2d",
   "metadata": {},
   "outputs": [],
   "source": [
    "df = pd.read_csv('murawski_HD209458b.txt', header = None)"
   ]
  },
  {
   "cell_type": "code",
   "execution_count": 69,
   "id": "5fe0e072",
   "metadata": {},
   "outputs": [
    {
     "data": {
      "text/html": [
       "<div>\n",
       "<style scoped>\n",
       "    .dataframe tbody tr th:only-of-type {\n",
       "        vertical-align: middle;\n",
       "    }\n",
       "\n",
       "    .dataframe tbody tr th {\n",
       "        vertical-align: top;\n",
       "    }\n",
       "\n",
       "    .dataframe thead th {\n",
       "        text-align: right;\n",
       "    }\n",
       "</style>\n",
       "<table border=\"1\" class=\"dataframe\">\n",
       "  <thead>\n",
       "    <tr style=\"text-align: right;\">\n",
       "      <th></th>\n",
       "      <th>0</th>\n",
       "      <th>1</th>\n",
       "      <th>2</th>\n",
       "    </tr>\n",
       "  </thead>\n",
       "  <tbody>\n",
       "    <tr>\n",
       "      <th>0</th>\n",
       "      <td>2.458353e+06</td>\n",
       "      <td>1.002173</td>\n",
       "      <td>0.001882</td>\n",
       "    </tr>\n",
       "    <tr>\n",
       "      <th>1</th>\n",
       "      <td>2.458353e+06</td>\n",
       "      <td>1.000410</td>\n",
       "      <td>0.001887</td>\n",
       "    </tr>\n",
       "    <tr>\n",
       "      <th>2</th>\n",
       "      <td>2.458353e+06</td>\n",
       "      <td>1.001958</td>\n",
       "      <td>0.001871</td>\n",
       "    </tr>\n",
       "    <tr>\n",
       "      <th>3</th>\n",
       "      <td>2.458353e+06</td>\n",
       "      <td>1.000807</td>\n",
       "      <td>0.001874</td>\n",
       "    </tr>\n",
       "    <tr>\n",
       "      <th>4</th>\n",
       "      <td>2.458353e+06</td>\n",
       "      <td>0.998045</td>\n",
       "      <td>0.001879</td>\n",
       "    </tr>\n",
       "    <tr>\n",
       "      <th>...</th>\n",
       "      <td>...</td>\n",
       "      <td>...</td>\n",
       "      <td>...</td>\n",
       "    </tr>\n",
       "    <tr>\n",
       "      <th>149</th>\n",
       "      <td>2.458354e+06</td>\n",
       "      <td>0.998366</td>\n",
       "      <td>0.001659</td>\n",
       "    </tr>\n",
       "    <tr>\n",
       "      <th>150</th>\n",
       "      <td>2.458354e+06</td>\n",
       "      <td>0.998657</td>\n",
       "      <td>0.001655</td>\n",
       "    </tr>\n",
       "    <tr>\n",
       "      <th>151</th>\n",
       "      <td>2.458354e+06</td>\n",
       "      <td>0.999444</td>\n",
       "      <td>0.001661</td>\n",
       "    </tr>\n",
       "    <tr>\n",
       "      <th>152</th>\n",
       "      <td>2.458354e+06</td>\n",
       "      <td>1.000789</td>\n",
       "      <td>0.001666</td>\n",
       "    </tr>\n",
       "    <tr>\n",
       "      <th>153</th>\n",
       "      <td>2.458354e+06</td>\n",
       "      <td>1.000596</td>\n",
       "      <td>0.001670</td>\n",
       "    </tr>\n",
       "  </tbody>\n",
       "</table>\n",
       "<p>154 rows × 3 columns</p>\n",
       "</div>"
      ],
      "text/plain": [
       "                0         1         2\n",
       "0    2.458353e+06  1.002173  0.001882\n",
       "1    2.458353e+06  1.000410  0.001887\n",
       "2    2.458353e+06  1.001958  0.001871\n",
       "3    2.458353e+06  1.000807  0.001874\n",
       "4    2.458353e+06  0.998045  0.001879\n",
       "..            ...       ...       ...\n",
       "149  2.458354e+06  0.998366  0.001659\n",
       "150  2.458354e+06  0.998657  0.001655\n",
       "151  2.458354e+06  0.999444  0.001661\n",
       "152  2.458354e+06  1.000789  0.001666\n",
       "153  2.458354e+06  1.000596  0.001670\n",
       "\n",
       "[154 rows x 3 columns]"
      ]
     },
     "execution_count": 69,
     "metadata": {},
     "output_type": "execute_result"
    }
   ],
   "source": [
    "df"
   ]
  },
  {
   "cell_type": "code",
   "execution_count": 70,
   "id": "00f768fb",
   "metadata": {},
   "outputs": [
    {
     "data": {
      "text/plain": [
       "[<matplotlib.lines.Line2D at 0x2415e719550>]"
      ]
     },
     "execution_count": 70,
     "metadata": {},
     "output_type": "execute_result"
    },
    {
     "data": {
      "image/png": "[encoded data removed]",
      "text/plain": [
       "<Figure size 432x288 with 1 Axes>"
      ]
     },
     "metadata": {
      "needs_background": "light"
     },
     "output_type": "display_data"
    }
   ],
   "source": [
    "plt.plot(df[0], df[1], 'k.')"
   ]
  },
  {
   "cell_type": "code",
   "execution_count": 77,
   "id": "364b2bbc",
   "metadata": {},
   "outputs": [
    {
     "data": {
      "text/plain": [
       "[<matplotlib.lines.Line2D at 0x2415e39a550>]"
      ]
     },
     "execution_count": 77,
     "metadata": {},
     "output_type": "execute_result"
    },
    {
     "data": {
      "image/png": "[encoded data removed]",
      "text/plain": [
       "<Figure size 432x288 with 1 Axes>"
      ]
     },
     "metadata": {
      "needs_background": "light"
     },
     "output_type": "display_data"
    }
   ],
   "source": [
    "#'correcting' the data imported from ETD as it was upside down\n",
    "\n",
    "flipped_data_HD209458b = []; corrected_time = []\n",
    "mid = len(df[0])/2\n",
    "    \n",
    "for i in range(len(df[1])):\n",
    "    \n",
    "    x = (df.iloc[i, 1]-1)\n",
    "    flipped_data_HD209458b.append(1 - x)\n",
    "    \n",
    "    t = (df.iloc[i, 0] *10E4)/3600 - (df.iloc[int(mid), 0]*10E4)/3600\n",
    "    corrected_time.append(t-.05)\n",
    "    \n",
    "plt.plot(corrected_time, flipped_data_HD209458b, 'k.')"
   ]
  },
  {
   "cell_type": "code",
   "execution_count": 79,
   "id": "99174f3d",
   "metadata": {},
   "outputs": [
    {
     "data": {
      "image/png": "[encoded data removed]",
      "text/plain": [
       "<Figure size 720x432 with 1 Axes>"
      ]
     },
     "metadata": {
      "needs_background": "light"
     },
     "output_type": "display_data"
    }
   ],
   "source": [
    "fig, ax = plt.subplots(figsize = (10, 6))\n",
    "ax.plot(corrected_time, flipped_data_HD209458b, 'k.', label = 'Data')\n",
    "ax.errorbar(corrected_time, flipped_data_HD209458b, xerr = None, yerr = df[2],\n",
    "            ls = ' ', ecolor = 'black', elinewidth = .5, capsize = 1)\n",
    "#ax.plot(time_h, pow_quad, 'r-', label = 'Quadratic LD law')\n",
    "#ax.plot(time_h, pow_log, 'b-', label = 'Logarithmic LD law')\n",
    "ax.plot(time_h, pow_non_lin, 'r-', label = 'Nonlinear LD law')\n",
    "ax.legend()\n",
    "ax.set_xlim(-4, 4)\n",
    "ax.set_title('HD 209458 b', fontsize = 'x-large')\n",
    "ax.set_ylabel('Relative Flux', fontsize = 'x-large'); ax.set_xlabel('Time from centre of transit (hours)', fontsize = 'x-large')\n",
    "\n",
    "plt.show()"
   ]
  },
  {
   "cell_type": "code",
   "execution_count": null,
   "id": "a13ab497",
   "metadata": {},
   "outputs": [],
   "source": []
  },
  {
   "cell_type": "code",
   "execution_count": null,
   "id": "ec0a9b58",
   "metadata": {},
   "outputs": [],
   "source": []
  }
 ],
 "metadata": {
  "kernelspec": {
   "display_name": "Python 3 (ipykernel)",
   "language": "python",
   "name": "python3"
  },
  "language_info": {
   "codemirror_mode": {
    "name": "ipython",
    "version": 3
   },
   "file_extension": ".py",
   "mimetype": "text/x-python",
   "name": "python",
   "nbconvert_exporter": "python",
   "pygments_lexer": "ipython3",
   "version": "3.9.7"
  }
 },
 "nbformat": 4,
 "nbformat_minor": 5
}
